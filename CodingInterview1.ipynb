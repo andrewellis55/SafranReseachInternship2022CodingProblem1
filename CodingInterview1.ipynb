{
  "cells": [
    {
      "cell_type": "markdown",
      "metadata": {
        "id": "tjDjILCsizr0"
      },
      "source": [
        "**Simple 1D Minimization**  \n",
        "We're going to create a simple optimizer for 1D functions and use the following unimodal convex function as a test for out optimizer  \n",
        "$f(x) = 3(x-3)^4 +4ln(x)$"
      ]
    },
    {
      "cell_type": "code",
      "execution_count": null,
      "metadata": {},
      "outputs": [],
      "source": [
        "# Imports\n",
        "%matplotlib inline\n",
        "import matplotlib.pyplot as plt\n",
        "import numpy as np"
      ]
    },
    {
      "cell_type": "markdown",
      "metadata": {
        "id": "dTk2WfC0oWhw"
      },
      "source": [
        "Our function is defined in python as follows"
      ]
    },
    {
      "cell_type": "code",
      "execution_count": null,
      "metadata": {
        "id": "gCYze4NuiwTt"
      },
      "outputs": [],
      "source": [
        "f = lambda x: 3*(x-3)**4 + 4*np.log(x)"
      ]
    },
    {
      "cell_type": "markdown",
      "metadata": {
        "id": "wMKx_iIPqt7Y"
      },
      "source": [
        "With the plot as seen below"
      ]
    },
    {
      "cell_type": "code",
      "execution_count": null,
      "metadata": {
        "colab": {
          "base_uri": "https://localhost:8080/",
          "height": 266
        },
        "id": "P6uQ5YGoqxTM",
        "outputId": "2d9296d2-5997-4925-d7e4-cea06133f80e"
      },
      "outputs": [],
      "source": [
        "plt.style.use('seaborn-whitegrid')\n",
        "u = np.linspace(1, 5, 100)\n",
        "y = f(u)\n",
        "plt.plot(u, y)\n",
        "axes = plt.gca()\n",
        "axes.set_ylim([0, 40]);"
      ]
    },
    {
      "cell_type": "markdown",
      "metadata": {
        "id": "xB_STDbhtZlW"
      },
      "source": [
        "From here, you'll need to start adding your own code.\n",
        "\n",
        "Let's take our first a second derivatives as these will be useful later."
      ]
    },
    {
      "cell_type": "code",
      "execution_count": null,
      "metadata": {
        "id": "Cpod3Iiutcfl"
      },
      "outputs": [],
      "source": [
        "fp = lambda x:   # YOUR FIRST DERIVATIVE HERE\n",
        "fpp = lambda x:   # YOUR SECOND DERIVATIVE HERE"
      ]
    },
    {
      "cell_type": "markdown",
      "metadata": {
        "id": "QYRSuI0Toj1H"
      },
      "source": [
        "Next, let's recal that the derivative for unimodal convex functions is the location where the first derivative is 0.  In order to do this, we're going to create a first order newton solver for the zeros of our first derivative.  \n",
        "\n",
        "This function should take in a function, it's derivative, and a starting point for the iteration  \n",
        "\n",
        "Recall the function for newton iteration is as follows  \n",
        "$x_{k+1} = x_k - f(x_k)/f'(x_k)$\n",
        "\n",
        "You should iterate until your relative tolerance between $x_{k+1}$ and $x_k$ is less than 0.00001"
      ]
    },
    {
      "cell_type": "code",
      "execution_count": null,
      "metadata": {
        "colab": {
          "base_uri": "https://localhost:8080/"
        },
        "id": "O0dmmeBAjJN1",
        "outputId": "82bb5953-cadf-41e5-b036-3fe7851e76d9"
      },
      "outputs": [],
      "source": [
        "def newton_minimize(f, fp, x0):\n",
        "  '''\n",
        "  parameters\n",
        "  ----------\n",
        "  f: function\n",
        "  fp: first derivative of the function\n",
        "  x0: starting point for the iteration\n",
        "\n",
        "  returns\n",
        "  -------\n",
        "  x_k: the value of x at the minima\n",
        "  '''\n",
        "\n",
        "  # YOUR CODE HERE\n",
        " \n",
        "  return x_k\n",
        "  "
      ]
    },
    {
      "cell_type": "markdown",
      "metadata": {
        "id": "3TZeYyZDjUT-"
      },
      "source": [
        "Next, we're going to use our newton solver to find the minima of our original function $f$"
      ]
    },
    {
      "cell_type": "code",
      "execution_count": null,
      "metadata": {
        "colab": {
          "base_uri": "https://localhost:8080/"
        },
        "id": "t4v5f1jAjVCu",
        "outputId": "0c7f1b50-da54-4023-feb3-e97de79a70ea"
      },
      "outputs": [],
      "source": [
        "minima = newton_minimize(fp, fpp, 5)  # This code calls your function\n",
        "print('The minima is ', minima)"
      ]
    }
  ],
  "metadata": {
    "colab": {
      "collapsed_sections": [],
      "name": "CodingInterview1.ipynb",
      "provenance": []
    },
    "interpreter": {
      "hash": "38103c9106961c3d3809deafcf6f37cb75cc351b96af1993c769e0f1feef278b"
    },
    "kernelspec": {
      "display_name": "Python 3.8.5 ('env': venv)",
      "language": "python",
      "name": "python3"
    },
    "language_info": {
      "codemirror_mode": {
        "name": "ipython",
        "version": 3
      },
      "file_extension": ".py",
      "mimetype": "text/x-python",
      "name": "python",
      "nbconvert_exporter": "python",
      "pygments_lexer": "ipython3",
      "version": "3.8.5"
    }
  },
  "nbformat": 4,
  "nbformat_minor": 0
}
